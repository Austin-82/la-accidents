version https://git-lfs.github.com/spec/v1
oid sha256:84cb1bf7605fb3a86a1242d6a70947af5fdaefe748506045147d4add413377c2
size 20443390
